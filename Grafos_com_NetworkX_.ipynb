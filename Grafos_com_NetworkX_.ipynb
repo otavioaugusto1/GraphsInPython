{
  "nbformat": 4,
  "nbformat_minor": 0,
  "metadata": {
    "colab": {
      "name": "Grafos com NetworkX .ipynb",
      "provenance": [],
      "authorship_tag": "ABX9TyPDxBzoofPM/v0Oco905B7P",
      "include_colab_link": true
    },
    "kernelspec": {
      "name": "python3",
      "display_name": "Python 3"
    },
    "language_info": {
      "name": "python"
    }
  },
  "cells": [
    {
      "cell_type": "markdown",
      "metadata": {
        "id": "view-in-github",
        "colab_type": "text"
      },
      "source": [
        "<a href=\"https://colab.research.google.com/github/otavioaugusto1/GraphsInPython/blob/master/Grafos_com_NetworkX_.ipynb\" target=\"_parent\"><img src=\"https://colab.research.google.com/assets/colab-badge.svg\" alt=\"Open In Colab\"/></a>"
      ]
    },
    {
      "cell_type": "code",
      "metadata": {
        "id": "gt27nDkCJDk8"
      },
      "source": [
        "import networkx as nx\n",
        "import matplotlib.pyplot as plt\n"
      ],
      "execution_count": 1,
      "outputs": []
    },
    {
      "cell_type": "markdown",
      "metadata": {
        "id": "eyjy-_2lJV8b"
      },
      "source": [
        "Cria o grafo vazio"
      ]
    },
    {
      "cell_type": "code",
      "metadata": {
        "id": "ckTsKBrHJTxu"
      },
      "source": [
        "G = nx.Graph()"
      ],
      "execution_count": 2,
      "outputs": []
    },
    {
      "cell_type": "markdown",
      "metadata": {
        "id": "GR9sW9vMJgXt"
      },
      "source": [
        "Adiciona vértices"
      ]
    },
    {
      "cell_type": "code",
      "metadata": {
        "id": "a5isFr-MJdkD"
      },
      "source": [
        "G.add_node(\"V1\")\n",
        "G.add_node(\"V2\")\n",
        "G.add_node(\"V3\")\n",
        "G.add_node(\"V4\")\n",
        "G.add_node(\"V5\")"
      ],
      "execution_count": 3,
      "outputs": []
    },
    {
      "cell_type": "markdown",
      "metadata": {
        "id": "d3Id9nx9JnT-"
      },
      "source": [
        "Adiciona arestas"
      ]
    },
    {
      "cell_type": "code",
      "metadata": {
        "id": "t8f-_OSBJmOc"
      },
      "source": [
        "G.add_edge('V1','V2')\n",
        "G.add_edge('V2','V3')\n",
        "G.add_edge('V3','V4')\n",
        "G.add_edge('V4','V5')\n",
        "G.add_edge('V5','V1')\n",
        "G.add_edge('V2','V4')"
      ],
      "execution_count": 4,
      "outputs": []
    },
    {
      "cell_type": "markdown",
      "metadata": {
        "id": "TjT8iG67KQNq"
      },
      "source": [
        "Lista os vértices"
      ]
    },
    {
      "cell_type": "code",
      "metadata": {
        "colab": {
          "base_uri": "https://localhost:8080/"
        },
        "id": "S2xA_bLbKDZS",
        "outputId": "7afe8de8-b060-4ed5-e50b-a1dd7e6c99f6"
      },
      "source": [
        "print(\"Vértices:\")\n",
        "print(G.nodes())\n"
      ],
      "execution_count": 7,
      "outputs": [
        {
          "output_type": "stream",
          "text": [
            "Vértices:\n",
            "['V1', 'V2', 'V3', 'V4', 'V5']\n"
          ],
          "name": "stdout"
        }
      ]
    },
    {
      "cell_type": "markdown",
      "metadata": {
        "id": "PbaOB11mKy42"
      },
      "source": [
        "Percorrendo os vértices"
      ]
    },
    {
      "cell_type": "code",
      "metadata": {
        "id": "DEhaOVNzKV0M",
        "outputId": "7b962c59-2c74-4313-e9c0-5a4c8d08f9f1",
        "colab": {
          "base_uri": "https://localhost:8080/"
        }
      },
      "source": [
        "for a in G.edges:\n",
        "  print(a)"
      ],
      "execution_count": 8,
      "outputs": [
        {
          "output_type": "stream",
          "text": [
            "('V1', 'V2')\n",
            "('V1', 'V5')\n",
            "('V2', 'V3')\n",
            "('V2', 'V4')\n",
            "('V3', 'V4')\n",
            "('V4', 'V5')\n"
          ],
          "name": "stdout"
        }
      ]
    },
    {
      "cell_type": "markdown",
      "metadata": {
        "id": "tD2HplEkLAdm"
      },
      "source": [
        "Lista de graus"
      ]
    },
    {
      "cell_type": "code",
      "metadata": {
        "id": "sekEcTDHK7TW",
        "outputId": "9f70ea9a-283c-45e2-b22d-956abd7f50d3",
        "colab": {
          "base_uri": "https://localhost:8080/"
        }
      },
      "source": [
        "print(G.degree())"
      ],
      "execution_count": 9,
      "outputs": [
        {
          "output_type": "stream",
          "text": [
            "[('V1', 2), ('V2', 3), ('V3', 2), ('V4', 3), ('V5', 2)]\n"
          ],
          "name": "stdout"
        }
      ]
    },
    {
      "cell_type": "markdown",
      "metadata": {
        "id": "h-T6L74MLbcg"
      },
      "source": [
        "Acessando o grau do vértice 2"
      ]
    },
    {
      "cell_type": "code",
      "metadata": {
        "id": "uVEgZWarLEpm",
        "outputId": "12365983-8020-4d9f-86a7-f385c7414415",
        "colab": {
          "base_uri": "https://localhost:8080/"
        }
      },
      "source": [
        "print(G.degree()['V2'])"
      ],
      "execution_count": 10,
      "outputs": [
        {
          "output_type": "stream",
          "text": [
            "3\n"
          ],
          "name": "stdout"
        }
      ]
    },
    {
      "cell_type": "markdown",
      "metadata": {
        "id": "-_-tk1dQL01t"
      },
      "source": [
        "Matriz de adjacência "
      ]
    },
    {
      "cell_type": "code",
      "metadata": {
        "id": "NJObpQuNLgoi",
        "outputId": "ef2a82e1-2695-4c02-97d6-1ad45f92af49",
        "colab": {
          "base_uri": "https://localhost:8080/"
        }
      },
      "source": [
        "A = nx.adjacency_matrix(G)\n",
        "print(A.todense())"
      ],
      "execution_count": 11,
      "outputs": [
        {
          "output_type": "stream",
          "text": [
            "[[0 1 0 0 1]\n",
            " [1 0 1 1 0]\n",
            " [0 1 0 1 0]\n",
            " [0 1 1 0 1]\n",
            " [1 0 0 1 0]]\n"
          ],
          "name": "stdout"
        }
      ]
    },
    {
      "cell_type": "markdown",
      "metadata": {
        "id": "2HJYs7_iMhqh"
      },
      "source": [
        "Adicionando um campo peso em cada aresta do grafo"
      ]
    },
    {
      "cell_type": "code",
      "metadata": {
        "id": "K-F6rmurMGBp"
      },
      "source": [
        "G['V1']['V2']['peso']= 5\n",
        "G['V2']['V3']['peso']= 10\n",
        "G['V3']['V4']['peso']= 2\n",
        "G['V4']['V5']['peso']= 7\n",
        "G['V5']['V1']['peso']= 4\n",
        "G['V2']['V4']['peso']= 8"
      ],
      "execution_count": 13,
      "outputs": []
    },
    {
      "cell_type": "markdown",
      "metadata": {
        "id": "cMX6la-ZNJws"
      },
      "source": [
        "Listando cada aresta e seu respectivo peso"
      ]
    },
    {
      "cell_type": "code",
      "metadata": {
        "id": "S5fOb6FCMfp2",
        "outputId": "79a326f6-49f4-41d7-ff5f-8cd32a6d9bcf",
        "colab": {
          "base_uri": "https://localhost:8080/"
        }
      },
      "source": [
        "for aresta in G.edges():\n",
        "  u = aresta[0]\n",
        "  v = aresta[1]\n",
        "  print(\"O peso da aresta\", aresta, \" vale \", G[u][v]['peso'])\n"
      ],
      "execution_count": 15,
      "outputs": [
        {
          "output_type": "stream",
          "text": [
            "O peso da aresta ('V1', 'V2')  vale  5\n",
            "O peso da aresta ('V1', 'V5')  vale  4\n",
            "O peso da aresta ('V2', 'V3')  vale  10\n",
            "O peso da aresta ('V2', 'V4')  vale  8\n",
            "O peso da aresta ('V3', 'V4')  vale  2\n",
            "O peso da aresta ('V4', 'V5')  vale  7\n"
          ],
          "name": "stdout"
        }
      ]
    },
    {
      "cell_type": "markdown",
      "metadata": {
        "id": "VbaLwendSB6E"
      },
      "source": [
        "Plotando"
      ]
    },
    {
      "cell_type": "code",
      "metadata": {
        "id": "C18EqFyaNfwh",
        "outputId": "4597e837-178d-4c01-8fb3-75aa69a7e915",
        "colab": {
          "base_uri": "https://localhost:8080/",
          "height": 248
        }
      },
      "source": [
        "plt.figure(2)\n",
        "nx.draw_networkx(G,pos=nx.spring_layout(G),with_labels=True)\n",
        "plt.show()"
      ],
      "execution_count": 16,
      "outputs": [
        {
          "output_type": "display_data",
          "data": {
            "image/png": "[encoded data removed]",
            "text/plain": [
              "<Figure size 432x288 with 1 Axes>"
            ]
          },
          "metadata": {
            "tags": []
          }
        }
      ]
    },
    {
      "cell_type": "code",
      "metadata": {
        "id": "ZdFmomC0SScT"
      },
      "source": [
        ""
      ],
      "execution_count": null,
      "outputs": []
    }
  ]
}
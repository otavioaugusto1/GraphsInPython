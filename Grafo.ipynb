{
  "nbformat": 4,
  "nbformat_minor": 0,
  "metadata": {
    "colab": {
      "name": "Grafo.ipynb",
      "provenance": [],
      "collapsed_sections": [],
      "authorship_tag": "ABX9TyNNPYx8IWJHbQTf6ShoSzAI",
      "include_colab_link": true
    },
    "kernelspec": {
      "name": "python3",
      "display_name": "Python 3"
    }
  },
  "cells": [
    {
      "cell_type": "markdown",
      "metadata": {
        "id": "view-in-github",
        "colab_type": "text"
      },
      "source": [
        "<a href=\"https://colab.research.google.com/github/otavioaugusto1/GraphsInPython/blob/master/Grafo.ipynb\" target=\"_parent\"><img src=\"https://colab.research.google.com/assets/colab-badge.svg\" alt=\"Open In Colab\"/></a>"
      ]
    },
    {
      "cell_type": "code",
      "metadata": {
        "id": "QMiUIYUy5UhB",
        "outputId": "2d89171b-9216-4066-bf07-4092d8819401",
        "colab": {
          "base_uri": "https://localhost:8080/",
          "height": 51
        }
      },
      "source": [
        "# Importa uma biblioteca para trabalhar com grafos \n",
        "import networkx as nx # Library for displaying graphs.\n",
        "\n",
        "# Cria um grafo vazio\n",
        "G = nx.Graph()\n",
        "\n",
        "# Coloca os vértices e arestas em uma lista\n",
        "vertices=['a', 'b', 'c', 'd','e','f','g']\n",
        "arestas=[('a','b',{'weight': 2}),('a','c',{'weight': 1}),('b','c',{'weight': 1}),\n",
        "         ('b','e',{'weight': 1}),('c','f',{'weight': 10}),('e','f',{'weight': 4}),\n",
        "         ('f','g',{'weight': 2}),('d','g',{'weight': 1}),('c','d',{'weight': 4})                                         \n",
        "        ]\n",
        "\n",
        "\n",
        "# Coloca os vértices e arestas no grafo usando as listas\n",
        "G.add_nodes_from(vertices)\n",
        "G.add_edges_from(arestas)\n",
        "\n",
        "# Descobre o caminho de custo mínimo (ccm) do vértice 'a' até 'e' \n",
        "ccm = nx.dijkstra_path(G,source = 'a', target = 'g')\n",
        "\n",
        "# Mostra a sequência de vértices do caminho mínimo\n",
        "print('Caminho de custo mínimo: ',ccm)\n",
        "\n",
        "# Mostra qual o tamanho do caminho (note que usei outra forma mais simples de passar os parâmetros)\n",
        "print('Tamanho do caminho de custo mínimo: ',nx.dijkstra_path_length(G,'a','g'))"
      ],
      "execution_count": null,
      "outputs": [
        {
          "output_type": "stream",
          "text": [
            "Caminho de custo mínimo:  ['a', 'c', 'd', 'g']\n",
            "Tamanho do caminho de custo mínimo:  6\n"
          ],
          "name": "stdout"
        }
      ]
    },
    {
      "cell_type": "code",
      "metadata": {
        "id": "V4IXogho5wyy"
      },
      "source": [
        ""
      ],
      "execution_count": null,
      "outputs": []
    },
    {
      "cell_type": "markdown",
      "metadata": {
        "id": "tUVV_ivi9xXR"
      },
      "source": [
        "# Visualização do gráfico e calculando o caminho mínimo."
      ]
    },
    {
      "cell_type": "code",
      "metadata": {
        "id": "O0TpCvqa92Rc",
        "outputId": "9fdc6d62-d879-437b-f7f6-f3ac93b40992",
        "colab": {
          "base_uri": "https://localhost:8080/",
          "height": 248
        }
      },
      "source": [
        "# Importa uma biblioteca para gerar figuras e gráficos\n",
        "import matplotlib.pyplot as plt\n",
        "\n",
        "# Guarda os pesos de cada aresta em um dicionário\n",
        "pesos =nx.get_edge_attributes(G,'weight')\n",
        "\n",
        "# Separa as arestas que fazem parte do menor caminho e guarda em arestas_vermelhas\n",
        "arestas_vermelhas = list(zip(ccm,ccm[1:]))\n",
        "\n",
        "# Marca os vértices que estão no CCM para serem pintados de azul e os outros de branco\n",
        "cor_vertices = ['yellow' if not node in ccm else 'green' for node in G.nodes()]\n",
        "\n",
        "# Marca as arestas que estão no CCM para serem pintados de vermelho e as outras de preto\n",
        "cor_arestas = ['black' if not edge in arestas_vermelhas else 'red' for edge in G.edges()]\n",
        "\n",
        "# Calcula automaticamente a posição de cada vértice \n",
        "# Note que as posições mudam de uma execução para a outra, dá para fazer diferente\n",
        "# e fixar cada posição\n",
        "\n",
        "pos=nx.spring_layout(G) \n",
        "\n",
        "# Prepara os vértices para serem desenhados usando as cores pré-determinadas e o tamanho 400\n",
        "nx.draw_networkx(G, pos,node_color= cor_vertices, node_size=400)\n",
        "\n",
        "# Prepara para mostrar os nomes dos vértices também (sem isso só mostra as bolinhas)\n",
        "# nx.draw_networkx_labels(G, pos, node_color= cor_vertices)\n",
        "\n",
        "# Prepara as arestas para serem desenhadas usando as cores pré-determinadas\n",
        "nx.draw_networkx_edges(G, pos,edge_color= cor_arestas)\n",
        "\n",
        "# Preparar para mostrar os pesos de cada aresta (sem isso mostra apenas as linhas)\n",
        "#nx.draw_networkx_edge_labels(G, pos,edge_color= cor_arestas, edge_labels=pesos)\n",
        "\n",
        "# Mostra o grafo\n",
        "plt.show()"
      ],
      "execution_count": null,
      "outputs": [
        {
          "output_type": "display_data",
          "data": {
            "image/png": "[encoded data removed]",
            "text/plain": [
              "<Figure size 432x288 with 1 Axes>"
            ]
          },
          "metadata": {
            "tags": []
          }
        }
      ]
    },
    {
      "cell_type": "code",
      "metadata": {
        "id": "2HttlUx697T-"
      },
      "source": [
        ""
      ],
      "execution_count": null,
      "outputs": []
    }
  ]
}